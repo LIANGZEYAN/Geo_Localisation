{
 "cells": [
  {
   "cell_type": "code",
   "execution_count": 1,
   "id": "2e93c1d9",
   "metadata": {},
   "outputs": [],
   "source": [
    "import tweepy\n",
    "import json"
   ]
  },
  {
   "cell_type": "code",
   "execution_count": 2,
   "id": "cae100c3",
   "metadata": {},
   "outputs": [],
   "source": [
    "# You need to replace these with your own values that you get after creating an app on Twitter's developer portal.\n",
    "consumer_key = \"SJ3sHtbmO3HFPmTu8Q8jsJGst\"\n",
    "consumer_secret =\"rE7Bz9rxZJw2t42ZGa9895jcPkUXwBC4FLx9B7yuyuNIVamXHP\"\n",
    "access_token =\"1483804988866502658-6suv3DpWCXc4ra4iazqtTsZmy6v8vg\"\n",
    "access_token_secret =\"q2Xp55qM5RGU1Afrr6skwJQjqpvFPgP0CUqYw3gLaxXMn\"\n",
    "\n",
    "auth = tweepy.OAuthHandler(consumer_key, consumer_secret )\n",
    "auth.set_access_token(access_token, access_token_secret)"
   ]
  },
  {
   "cell_type": "code",
   "execution_count": 3,
   "id": "f6ebd367",
   "metadata": {},
   "outputs": [],
   "source": [
    "class StreamListener(tweepy.StreamListener):\n",
    "  #This is a class provided by tweepy to access the Twitter Streaming API.\n",
    "    def on_connect(self):\n",
    "        # Called initially to connect to the Streaming API\n",
    "        print(\"You are now connected to the streaming API.\")\n",
    "\n",
    "    def on_error(self, status_code):\n",
    "        # On error - if an error occurs, display the error / status code\n",
    "        print('An Error has occured: ' + repr(status_code))\n",
    "        return False\n",
    "\n",
    "    def on_data(self, data):\n",
    "        #This is the meat of the script...it connects to your mongoDB and stores the tweet\n",
    "        #print(data)\n",
    "        try:\n",
    "            print(data)\n",
    "\n",
    "        except Exception as e:\n",
    "            print(e)"
   ]
  },
  {
   "cell_type": "code",
   "execution_count": 5,
   "id": "b66b095e",
   "metadata": {},
   "outputs": [
    {
     "name": "stdout",
     "output_type": "stream",
     "text": [
      "An Error has occured: 403\n"
     ]
    }
   ],
   "source": [
    "#Set up the listener. The 'wait_on_rate_limit=True' is needed to help with Twitter API rate limiting.\n",
    "listener = StreamListener(api=tweepy.API(wait_on_rate_limit=True))\n",
    "streamer = tweepy.Stream(auth=auth, listener=listener)\n",
    "# streamer.sample(languages = ['en'])\n",
    "#\n",
    "Loc_UK = [-10.392627, 49.681847, 1.055039, 61.122019] # UK and Ireland\n",
    "Words_UK =[\"Boris\", \"Prime Minister\", \"Tories\", \"UK\", \"London\", \"England\", \"Manchester\", \"Sheffield\", \"York\", \"Southampton\", \\\n",
    " \"Wales\", \"Cardiff\", \"Swansea\" ,\"Banff\", \"Bristol\", \"Oxford\", \"Birmingham\" ,\"Scotland\", \"Glasgow\", \"Edinburgh\", \"Dundee\", \"Aberdeen\", \"Highlands\" \\\n",
    "\"Inverness\", \"Perth\", \"St Andrews\", \"Dumfries\", \"Ayr\" \\\n",
    "\"Ireland\", \"Dublin\", \"Cork\", \"Limerick\", \"Galway\", \"Belfast\",\" Derry\", \"Armagh\" \\\n",
    "\"BoJo\", \"Labour\", \"Liberal Democrats\", \"SNP\", \"Conservatives\", \"First Minister\", \"Surgeon\", \"Chancelor\" \\\n",
    "\"Boris Johnson\", \"BoJo\", \"Keith Stramer\"]\n",
    "# #\n",
    "# # print(\"Tracking: \" + str(Words_UK))\n",
    "streamer.filter(locations= Loc_UK, track = Words_UK, languages = ['en'], is_async=True) #locations= Loc_UK, track = Words_UK,\n",
    "# #"
   ]
  }
 ],
 "metadata": {
  "hide_input": false,
  "kernelspec": {
   "display_name": "Python 3",
   "language": "python",
   "name": "python3"
  },
  "language_info": {
   "codemirror_mode": {
    "name": "ipython",
    "version": 3
   },
   "file_extension": ".py",
   "mimetype": "text/x-python",
   "name": "python",
   "nbconvert_exporter": "python",
   "pygments_lexer": "ipython3",
   "version": "3.8.8"
  },
  "nbTranslate": {
   "displayLangs": [
    "*"
   ],
   "hotkey": "alt-t",
   "langInMainMenu": true,
   "sourceLang": "en",
   "targetLang": "fr",
   "useGoogleTranslate": true
  },
  "toc": {
   "base_numbering": 1,
   "nav_menu": {},
   "number_sections": true,
   "sideBar": true,
   "skip_h1_title": false,
   "title_cell": "Table of Contents",
   "title_sidebar": "Contents",
   "toc_cell": false,
   "toc_position": {},
   "toc_section_display": true,
   "toc_window_display": false
  },
  "varInspector": {
   "cols": {
    "lenName": 16,
    "lenType": 16,
    "lenVar": 40
   },
   "kernels_config": {
    "python": {
     "delete_cmd_postfix": "",
     "delete_cmd_prefix": "del ",
     "library": "var_list.py",
     "varRefreshCmd": "print(var_dic_list())"
    },
    "r": {
     "delete_cmd_postfix": ") ",
     "delete_cmd_prefix": "rm(",
     "library": "var_list.r",
     "varRefreshCmd": "cat(var_dic_list()) "
    }
   },
   "types_to_exclude": [
    "module",
    "function",
    "builtin_function_or_method",
    "instance",
    "_Feature"
   ],
   "window_display": false
  }
 },
 "nbformat": 4,
 "nbformat_minor": 5
}
